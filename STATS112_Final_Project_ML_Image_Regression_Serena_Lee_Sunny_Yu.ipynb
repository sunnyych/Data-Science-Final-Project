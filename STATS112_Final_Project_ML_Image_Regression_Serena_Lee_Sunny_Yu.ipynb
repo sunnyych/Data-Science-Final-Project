{
  "cells": [
    {
      "cell_type": "markdown",
      "metadata": {
        "id": "IaHCenjXGSFa"
      },
      "source": [
        "# Machine Learning: Predicting Average Book Ratings Based on Book Covers\n",
        "\n",
        "The goal of the machine learning portion of this project is to predict a book's average rating based on its book cover. Since rating is a quantitative value, we will be using regression models to predict scores.\n",
        "\n",
        "In the data collection portion of this project, we scraped URLs to the book's cover images. In this notebook, we read those images in a 64x64x3 RGB array and flatten it into a 1-D arrays to use for our test and train data.\n",
        "\n",
        "*NB: not all books had valid cover URLs, so the following models could only predict for the 23,975 books that did."
      ]
    },
    {
      "cell_type": "code",
      "execution_count": null,
      "metadata": {
        "id": "Lykq9jKAFXIl"
      },
      "outputs": [],
      "source": [
        "import pandas as pd\n",
        "import numpy as np\n",
        "from sklearn.neighbors import KNeighborsRegressor\n",
        "from sklearn.preprocessing import StandardScaler\n",
        "from sklearn.preprocessing import OneHotEncoder\n",
        "from sklearn.compose import make_column_transformer\n",
        "from sklearn.pipeline import make_pipeline\n",
        "from sklearn.cluster import KMeans\n",
        "from sklearn.cluster import AgglomerativeClustering\n",
        "from sklearn.model_selection import cross_val_score\n",
        "from sklearn.feature_extraction.text import TfidfVectorizer\n",
        "from sklearn.model_selection import GridSearchCV"
      ]
    },
    {
      "cell_type": "code",
      "execution_count": null,
      "metadata": {
        "colab": {
          "base_uri": "https://localhost:8080/"
        },
        "id": "fKIGAqLN4aRp",
        "outputId": "2affd881-e204-445b-b42e-780d4e0b37ca"
      },
      "outputs": [
        {
          "output_type": "stream",
          "name": "stdout",
          "text": [
            "Mounted at /content/drive\n"
          ]
        }
      ],
      "source": [
        "from google.colab import drive\n",
        "drive.mount('/content/drive')\n",
        "data_dir = \"/content/drive/MyDrive/Data Science Final Project/\""
      ]
    },
    {
      "cell_type": "code",
      "execution_count": null,
      "metadata": {
        "id": "PB1myZhIFMqe"
      },
      "outputs": [],
      "source": [
        "#read in data (Part 1 and Part 2 show how these csv files were created. ML model testing is in section 3)\n",
        "df_books = pd.read_csv(data_dir + \"books_clean.csv\")\n",
        "df_images = pd.read_csv(data_dir + \"book_covers_full.csv\")"
      ]
    },
    {
      "cell_type": "markdown",
      "metadata": {
        "id": "aKZBDqaiOC_7"
      },
      "source": [
        "# Part 1: Transforming image data into a 1-D array\n",
        "\n",
        "To do this, we needed to standardize the size of the book cover images -- we chose to compress all images using billinear interpolation to preserve the key features (color, shape, all aspects of the cover) and stored all the book covers at 64x64 images. We did this because 64x64x3 (=12288 features) was most compatible with the number of observations we had -- larger images (like 128x128x3=49152) would mean our model has more features than training observations, which would not yield good predictions.\n",
        "\n",
        "Moreover, we found that a 64x64 image was clearer than a 32x32, and so was critical to maintain a good level of key distinguishing features between each book."
      ]
    },
    {
      "cell_type": "markdown",
      "metadata": {
        "id": "qtsbFsxZPP6c"
      },
      "source": [
        "### Reading images from URL & resizing to prepare for ML model\n",
        "1. Define functions to read and resize image\n",
        "2. Determine the optimal size for the images (64x64)"
      ]
    },
    {
      "cell_type": "code",
      "execution_count": null,
      "metadata": {
        "id": "wt3ntVs8Eek4"
      },
      "outputs": [],
      "source": [
        "image_urls1 = df_books.loc[df_books[\"image_url\"] != \"\", \"image_url\"]"
      ]
    },
    {
      "cell_type": "code",
      "execution_count": null,
      "metadata": {
        "id": "P_EsW9HuyhJy"
      },
      "outputs": [],
      "source": [
        "import requests\n",
        "from PIL import Image\n",
        "from io import BytesIO\n",
        "from skimage.io import imread\n",
        "from skimage.transform import resize\n",
        "\n",
        "def read_image_from_url(url):\n",
        "    response = requests.get(url)\n",
        "    img = Image.open(BytesIO(response.content))\n",
        "    img_array = np.array(img)\n",
        "    return img_array"
      ]
    },
    {
      "cell_type": "code",
      "execution_count": null,
      "metadata": {
        "id": "zmXgFMeM2Ngx"
      },
      "outputs": [],
      "source": [
        "def resize_image(image_array, new_size):\n",
        "    \"\"\"\n",
        "    Resize image array to a new size using bilinear interpolation.\n",
        "    \n",
        "    Parameters:\n",
        "    - image_array: numpy array representing the image\n",
        "    - new_size: tuple representing the new size (width, height)\n",
        "    \n",
        "    Returns:\n",
        "    - resized_image_array: numpy array representing the resized image\n",
        "    \"\"\"\n",
        "    # Convert numpy array to PIL Image object\n",
        "    image = Image.fromarray(image_array)\n",
        "    \n",
        "    # Resize image using bilinear interpolation\n",
        "    resized_image = image.resize(new_size, resample=Image.BILINEAR)\n",
        "    \n",
        "    # Convert PIL Image object to numpy array\n",
        "    resized_image_array = np.array(resized_image)\n",
        "    \n",
        "    return resized_image_array"
      ]
    },
    {
      "cell_type": "markdown",
      "metadata": {
        "id": "T8TdjQt2Ph60"
      },
      "source": [
        "# Part 2: Load a DataFrame of image arrays for each book, the book title & average rating"
      ]
    },
    {
      "cell_type": "code",
      "execution_count": null,
      "metadata": {
        "id": "Js66W5bGWWX5"
      },
      "outputs": [],
      "source": [
        "image_size = (64, 64)\n",
        "\n",
        "image_urls = image_urls1[:12000]\n",
        "\n",
        "# Define a lambda function that reads an image from a URL, resizes it, and flattens it\n",
        "read_resize_flatten_image = lambda url: resize(imread(url), image_size).flatten()\n",
        "\n",
        "# make a list of flattened image arrays with size 12288 and corresponding book indices\n",
        "image_arrays = []\n",
        "book_titles = []\n",
        "for i, url in enumerate(image_urls):\n",
        "    flattened_image = read_resize_flatten_image(url)\n",
        "    if flattened_image.size == 12288:\n",
        "        image_arrays.append(flattened_image)\n",
        "        book_titles.append(df_books[\"title\"][i])\n",
        "\n",
        "# Create a DataFrame with flattened image arrays and book indices\n",
        "df_images = pd.DataFrame(np.vstack(image_arrays))\n",
        "df_images['rating'] = [df_books.iloc[idx]['avg_rating'] for idx in range(len(image_arrays))]\n",
        "df_images['title'] = book_titles\n",
        "\n",
        "df_images.to_csv(data_dir + 'book_covers.csv', index=False)\n",
        "\n",
        "#second half of data -- so that colab does not exceed output size limit\n",
        "\n",
        "split = 24971 - 12000\n",
        "\n",
        "image_urls = image_urls1[split:]\n",
        "\n",
        "# Define a lambda function that reads an image from a URL, resizes it, and flattens it\n",
        "read_resize_flatten_image = lambda url: resize(imread(url), image_size).flatten()\n",
        "\n",
        "# make a list of flattened image arrays with size 12288 and corresponding book indices\n",
        "image_arrays = []\n",
        "book_titles = []\n",
        "for i, url in enumerate(image_urls):\n",
        "    flattened_image = read_resize_flatten_image(url)\n",
        "    if flattened_image.size == 12288:\n",
        "        image_arrays.append(flattened_image)\n",
        "        book_titles.append(df_books[\"title\"][i])\n",
        "\n",
        "# Create a df with flattened image arrays and book indices\n",
        "df_images = pd.DataFrame(np.vstack(image_arrays))\n",
        "df_images['rating'] = [df_books.iloc[idx]['avg_rating'] for idx in range(len(image_arrays))]\n",
        "df_images['title'] = book_titles\n",
        "\n",
        "df_images.to_csv(data_dir + 'add_book_covers.csv', index=False)"
      ]
    },
    {
      "cell_type": "code",
      "source": [
        "book_covers = \"/content/drive/MyDrive/Data Science Final Project/book_covers.csv\"\n",
        "add_book_covers = \"/content/drive/MyDrive/Data Science Final Project/add_book_covers.csv\"\n",
        "\n",
        "df1 = pd.read_csv(book_covers)\n",
        "df2 = pd.read_csv(add_book_covers)\n",
        "\n",
        "df_images = pd.concat([df1, df2], axis=0)"
      ],
      "metadata": {
        "id": "S18YCRdng5N6"
      },
      "execution_count": null,
      "outputs": []
    },
    {
      "cell_type": "code",
      "source": [
        "df_images.to_csv(data_dir + 'book_covers_full.csv', index=False)"
      ],
      "metadata": {
        "id": "70wcm-qpzEVM"
      },
      "execution_count": null,
      "outputs": []
    },
    {
      "cell_type": "code",
      "source": [
        "print(f\"The number of books with a valid book cover are {len(df_images)}\")"
      ],
      "metadata": {
        "colab": {
          "base_uri": "https://localhost:8080/"
        },
        "id": "IE69KZ1AhmhK",
        "outputId": "ca95a433-ae5d-48f1-b78f-23316243eabc"
      },
      "execution_count": null,
      "outputs": [
        {
          "output_type": "stream",
          "name": "stdout",
          "text": [
            "The number of books with a valid book cover are 23975\n"
          ]
        }
      ]
    },
    {
      "cell_type": "markdown",
      "metadata": {
        "id": "yZTV56nNarNg"
      },
      "source": [
        "Now that we have flattened and stacked the image pixel data, we expect to see a dataframe with 12288 (64x64x3) columns for each pixel + 2 more columns for the book title and its rating. \n",
        "\n",
        "To check for this, we call .shape to ensure there are 12,290 columns\n"
      ]
    },
    {
      "cell_type": "code",
      "execution_count": null,
      "metadata": {
        "colab": {
          "base_uri": "https://localhost:8080/"
        },
        "id": "2XzFK09xqoGe",
        "outputId": "e03df88b-d549-4592-ade2-f59831fa29ee"
      },
      "outputs": [
        {
          "output_type": "execute_result",
          "data": {
            "text/plain": [
              "(23975, 12290)"
            ]
          },
          "metadata": {},
          "execution_count": 27
        }
      ],
      "source": [
        "df_images.shape"
      ]
    },
    {
      "cell_type": "markdown",
      "source": [
        "# Part 3: Model testing"
      ],
      "metadata": {
        "id": "TtENwPfCg0U0"
      }
    },
    {
      "cell_type": "markdown",
      "metadata": {
        "id": "_YJM5guaL1bt"
      },
      "source": [
        "# Hyperparameter testing of K-nearest-neighbors model\n",
        "In this section, K-Neighbors Regressor: best K value?"
      ]
    },
    {
      "cell_type": "code",
      "source": [
        "from sklearn import metrics\n",
        "from sklearn.neighbors import KNeighborsRegressor\n",
        "from sklearn.model_selection import cross_val_score, GridSearchCV\n",
        "import matplotlib.pyplot as plt\n",
        "from sklearn.metrics import mean_squared_error"
      ],
      "metadata": {
        "id": "HjmmMM5UwJkk"
      },
      "execution_count": null,
      "outputs": []
    },
    {
      "cell_type": "code",
      "execution_count": null,
      "metadata": {
        "id": "nQlUUZD6bTdW"
      },
      "outputs": [],
      "source": [
        "X_train = df_images.iloc[:,: 12287]\n",
        "y_train = df_images[\"rating\"]"
      ]
    },
    {
      "cell_type": "markdown",
      "metadata": {
        "id": "JLptMgVRLSyD"
      },
      "source": [
        "The trends of training and test MSEs follow what we would expect -- that test MSE is always higher than training MSE. We will zoom in on the 150-500 range as that seems to be more promising for a lower test MSE"
      ]
    },
    {
      "cell_type": "code",
      "execution_count": null,
      "metadata": {
        "colab": {
          "base_uri": "https://localhost:8080/",
          "height": 374
        },
        "id": "Hrl6MDWRBSZu",
        "outputId": "b87fd196-872c-4f0e-a874-7e0925b8bdcb"
      },
      "outputs": [
        {
          "output_type": "stream",
          "name": "stdout",
          "text": [
            "470    0.116348\n",
            "480    0.116357\n",
            "460    0.116370\n",
            "490    0.116389\n",
            "440    0.116402\n",
            "Name: Test MSE, dtype: float64\n"
          ]
        },
        {
          "output_type": "display_data",
          "data": {
            "text/plain": [
              "<Figure size 432x288 with 1 Axes>"
            ],
            "image/png": "[encoded data removed]"
          },
          "metadata": {
            "needs_background": "light"
          }
        }
      ],
      "source": [
        "ks = range(150, 500, 10)\n",
        "train_MSEs = []\n",
        "test_MSEs = []\n",
        "\n",
        "for k in ks:\n",
        "  model = KNeighborsRegressor(n_neighbors=k)\n",
        "  model.fit(X_train,y_train)\n",
        "\n",
        "  #computing train error\n",
        "  y_train_pred = model.predict(X_train)\n",
        "  train_MSEs.append(mean_squared_error(y_train, y_train_pred))\n",
        "\n",
        "  test_MSEs.append(-cross_val_score(\n",
        "      model, X_train, y_train,\n",
        "      scoring=\"neg_mean_squared_error\", cv=10).mean())\n",
        "\n",
        "#get MS errors\n",
        "MSEs = pd.DataFrame({\n",
        "\"Training MSE\": train_MSEs,\n",
        "\"Test MSE\": test_MSEs}, index=ks)\n",
        "MSEs.plot.line(legend=True)\n",
        "\n",
        "print(MSEs[\"Test MSE\"].sort_values()[:5])"
      ]
    },
    {
      "cell_type": "code",
      "source": [
        "#which scaling metric is the best\n",
        "\n",
        "X_train = df_images.iloc[:,: 12287]\n",
        "y_train = df_images[\"rating\"]\n",
        "\n",
        "col_transformer = make_column_transformer(\n",
        "    (StandardScaler(), slice(0, 12287))\n",
        ")\n",
        "\n",
        "for metric in ['euclidean', 'manhattan']:\n",
        "  pipeline = make_pipeline(col_transformer, KNeighborsRegressor(n_neighbors=470, metric=metric))\n",
        "\n",
        "  print(metric, -cross_val_score(\n",
        "      pipeline, X_train, y_train,\n",
        "      scoring=\"neg_mean_squared_error\",\n",
        "      cv=10).mean()\n",
        "  )"
      ],
      "metadata": {
        "colab": {
          "base_uri": "https://localhost:8080/"
        },
        "outputId": "8c339b88-cb49-4c7b-9abe-ac3423e639a0",
        "id": "Xj0SMjOXhY1h"
      },
      "execution_count": null,
      "outputs": [
        {
          "output_type": "stream",
          "name": "stdout",
          "text": [
            "euclidean 0.11302739879961377\n",
            "manhattan 0.11291609145348043\n"
          ]
        }
      ]
    },
    {
      "cell_type": "markdown",
      "metadata": {
        "id": "A8bF0rEXGF29"
      },
      "source": [
        "##Explore different features\n",
        "### Comparing model trained on image features against non-image features\n",
        "\n",
        "Can we judge a book by its cover? The cover of a book is more than just the image itself: it contains the book title and the author name!\n",
        "\n",
        "In this section, we compare including these different feautres in a regression model. Using KNN, we compare models using only non-image features vs using image features.\n",
        "\n",
        "Having determined the optimal value of k at k=470, we will  compare how the model fares between training only on book cover images versus other features like: author name, title, book description, and first sentence.\n",
        "\n",
        "For this, we will disaggregate the data along genre-lines to better account for differences in genres. We will focus the model on the most common genre in the dataset: Fiction, which comprises 'fiction and literature' and \"general fiction\"."
      ]
    },
    {
      "cell_type": "code",
      "source": [
        "top_genres = df_books['genre'].explode().value_counts().head(3)\n",
        "print(f\"most common genres:\\n{top_genres}\")"
      ],
      "metadata": {
        "colab": {
          "base_uri": "https://localhost:8080/"
        },
        "id": "FBIWOSrv5fsd",
        "outputId": "3438f726-e765-4c4c-91e7-da2800d3e8d3"
      },
      "execution_count": null,
      "outputs": [
        {
          "output_type": "stream",
          "name": "stdout",
          "text": [
            "most common genres:\n",
            "Fiction and Literature    19960\n",
            "General Fiction            6346\n",
            "Fantasy                    3735\n",
            "Name: genre, dtype: int64\n"
          ]
        }
      ]
    },
    {
      "cell_type": "markdown",
      "source": [
        "We see that 'fiction' features prominently across the top 5 most popular genres in the dataset. We will combine 'Fiction & Literature' and \"General Fiction' in order to see a broader range of books. "
      ],
      "metadata": {
        "id": "jQzvzU01eLTd"
      }
    },
    {
      "cell_type": "code",
      "source": [
        "df_fiction = pd.concat([pd.read_csv(\"/content/drive/MyDrive/Data Science Final Project/df_Fiction and Literature\"), \n",
        "                        pd.read_csv(\"/content/drive/MyDrive/Data Science Final Project/df_General Fiction\")])\n",
        "\n",
        "df_fiction = df_fiction.drop_duplicates().dropna()\n",
        "\n",
        "print(f\"There are {len(df_fiction)} books in the Fiction category\")"
      ],
      "metadata": {
        "colab": {
          "base_uri": "https://localhost:8080/"
        },
        "outputId": "b433f8de-1686-4dae-ece8-a60ed4f5d686",
        "id": "5Ey850TChrWX"
      },
      "execution_count": null,
      "outputs": [
        {
          "output_type": "stream",
          "name": "stdout",
          "text": [
            "There are 14747 books in the Fiction category\n"
          ]
        }
      ]
    },
    {
      "cell_type": "code",
      "source": [
        "#define features\n",
        "cat_vars = ['author', 'publication_year']\n",
        "tfidf_vars = ['title', 'description', 'first_sentence']\n",
        "y_train = df_fiction['avg_rating']"
      ],
      "metadata": {
        "id": "3vty4tTSh0II"
      },
      "execution_count": null,
      "outputs": []
    },
    {
      "cell_type": "code",
      "source": [
        "preprocessors = [\n",
        "    (OneHotEncoder(handle_unknown=\"ignore\"), cat_vars),\n",
        "    (TfidfVectorizer(max_features=50), tfidf_vars)\n",
        "]\n",
        "preprocessors[1]"
      ],
      "metadata": {
        "colab": {
          "base_uri": "https://localhost:8080/"
        },
        "outputId": "34989042-c897-4b72-c663-a2122ed4e0f6",
        "id": "i6cn_PPnh3Bg"
      },
      "execution_count": null,
      "outputs": [
        {
          "output_type": "execute_result",
          "data": {
            "text/plain": [
              "(TfidfVectorizer(max_features=50), ['title', 'description', 'first_sentence'])"
            ]
          },
          "metadata": {},
          "execution_count": 8
        }
      ]
    },
    {
      "cell_type": "code",
      "source": [
        "column_transformers = [make_column_transformer((StandardScaler(), [\"number_of_reviews\"]),\n",
        "    remainder=\"drop\" \n",
        "), make_column_transformer(\n",
        "    (StandardScaler(), [\"number_of_reviews\"]),\n",
        "    (TfidfVectorizer(max_features = 100), 'description'),\n",
        "    (TfidfVectorizer(max_features = 100), 'title'),\n",
        "    remainder=\"drop\" \n",
        "), make_column_transformer(\n",
        "    (OneHotEncoder(handle_unknown=\"ignore\"),['author']),\n",
        "    (TfidfVectorizer(max_features = 100), 'title'),\n",
        "    remainder=\"drop\"  \n",
        "), make_column_transformer(\n",
        "    (OneHotEncoder(handle_unknown=\"ignore\"),['author']),\n",
        "    (TfidfVectorizer(max_features = 100), 'first_sentence'),\n",
        "    (TfidfVectorizer(max_features = 100), 'description'),\n",
        "    (TfidfVectorizer(max_features = 100), 'title'),\n",
        "    remainder=\"drop\"  \n",
        ")]\n",
        "\n",
        "for model_num, column_transformer in enumerate(column_transformers):\n",
        "    pipeline = make_pipeline(\n",
        "        column_transformer,\n",
        "        KNeighborsRegressor(n_neighbors=20)\n",
        "    )\n",
        "    scores = cross_val_score(\n",
        "        pipeline,\n",
        "        X=df_fiction[['title', 'author', 'description', 'publication_year', 'first_sentence', 'number_of_reviews']],\n",
        "        y=df_fiction['avg_rating'], \n",
        "        scoring=\"neg_mean_squared_error\", \n",
        "        cv=20\n",
        "    )\n",
        "    error = -scores.mean()\n",
        "    print(f\"Error of model #{model_num + 1}: {error}\")\n"
      ],
      "metadata": {
        "colab": {
          "base_uri": "https://localhost:8080/"
        },
        "id": "Db4sUbiqDqxx",
        "outputId": "0a6d46c6-88b0-48e4-fed4-6b31de68dfa6"
      },
      "execution_count": null,
      "outputs": [
        {
          "output_type": "stream",
          "name": "stdout",
          "text": [
            "Error of model #1: 0.08310826050452651\n",
            "Error of model #2: 0.0789037170645755\n",
            "Error of model #3: 0.08443445922383648\n",
            "Error of model #4: 0.08125552210820897\n"
          ]
        }
      ]
    },
    {
      "cell_type": "code",
      "source": [
        "for model_num, column_transformer in enumerate(column_transformers):\n",
        "  print(f\"{model_num + 1}: {column_transformers[model_num]}\")"
      ],
      "metadata": {
        "colab": {
          "base_uri": "https://localhost:8080/"
        },
        "id": "gYmziOpJIPZh",
        "outputId": "9bc79653-9fa7-405b-b06b-9ef833faa79e"
      },
      "execution_count": null,
      "outputs": [
        {
          "output_type": "stream",
          "name": "stdout",
          "text": [
            "1: ColumnTransformer(transformers=[('standardscaler', StandardScaler(),\n",
            "                                 ['number_of_reviews'])])\n",
            "2: ColumnTransformer(transformers=[('standardscaler', StandardScaler(),\n",
            "                                 ['number_of_reviews']),\n",
            "                                ('tfidfvectorizer-1',\n",
            "                                 TfidfVectorizer(max_features=100),\n",
            "                                 'description'),\n",
            "                                ('tfidfvectorizer-2',\n",
            "                                 TfidfVectorizer(max_features=100), 'title')])\n",
            "3: ColumnTransformer(transformers=[('onehotencoder',\n",
            "                                 OneHotEncoder(handle_unknown='ignore'),\n",
            "                                 ['author']),\n",
            "                                ('tfidfvectorizer',\n",
            "                                 TfidfVectorizer(max_features=100), 'title')])\n",
            "4: ColumnTransformer(transformers=[('onehotencoder',\n",
            "                                 OneHotEncoder(handle_unknown='ignore'),\n",
            "                                 ['author']),\n",
            "                                ('tfidfvectorizer-1',\n",
            "                                 TfidfVectorizer(max_features=100),\n",
            "                                 'first_sentence'),\n",
            "                                ('tfidfvectorizer-2',\n",
            "                                 TfidfVectorizer(max_features=100),\n",
            "                                 'description'),\n",
            "                                ('tfidfvectorizer-3',\n",
            "                                 TfidfVectorizer(max_features=100), 'title')])\n"
          ]
        }
      ]
    },
    {
      "cell_type": "markdown",
      "source": [
        "KEY FINDING: The best performing model used a combination of 'number_of_reviews' and 'description'. Additionally, all of these models outperformed the book cover data (RMSE = 0.11)."
      ],
      "metadata": {
        "id": "crNZRe26ihod"
      }
    }
  ],
  "metadata": {
    "colab": {
      "provenance": []
    },
    "kernelspec": {
      "display_name": "Python 3",
      "name": "python3"
    },
    "language_info": {
      "name": "python"
    }
  },
  "nbformat": 4,
  "nbformat_minor": 0
}