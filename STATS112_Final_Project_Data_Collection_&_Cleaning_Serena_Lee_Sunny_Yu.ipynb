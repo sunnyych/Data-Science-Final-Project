{
  "cells": [
    {
      "cell_type": "markdown",
      "metadata": {
        "id": "6y7ytfUPt7gs"
      },
      "source": [
        "# Data Collection and Cleaning\n"
      ]
    },
    {
      "cell_type": "code",
      "execution_count": null,
      "metadata": {
        "id": "Nn69LBMRcZ8l"
      },
      "outputs": [],
      "source": [
        "import pandas as pd\n",
        "import numpy as np\n",
        "import requests\n",
        "import time\n",
        "from bs4 import BeautifulSoup\n",
        "from tqdm import tqdm\n",
        "import pickle"
      ]
    },
    {
      "cell_type": "markdown",
      "metadata": {
        "id": "O5lAZcVqty2B"
      },
      "source": [
        "# Data Collection: Scraping Web Data\n",
        "\n",
        "We will be scraping data off of the website [librarything.com](https://www.librarything.com/), which contains over 155 million books catalogued from Amazon, the Library of Congress and 4,941 other libraries. It also contains metadata such as: \n",
        "- Book title \n",
        "- Blurb \n",
        "- Author\n",
        "- Publication Date \n",
        "- First words \n",
        "- Publishing house \n",
        "- Average rating\n",
        "- Number of reviews (we will filter for books with more than 10 reviews)\n",
        "- Book covers\n",
        "\n",
        "However, the books are stored under random IDs in their url strings. For example, George Orwell's '1984' is under: https://www.librarything.com/work/1472. So first, we needed to scrape author pages and extract the urls of all their works. Author pages are accessible under: https://www.librarything.com/author/orwellgeorge. \n",
        "\n",
        "We first scrape a list of author names using LibraryThing's author gallery, Wikipedia Bestselling Authors, and The Guardian's List of Authors. This resulted in 1613 authors.\n",
        "\n",
        "We then put the corresponding names into the correct format to loop through 1613 author pages and access all of their works.\n",
        "\n",
        "**Using this method, our raw dataset contains 25,108 books.**"
      ]
    },
    {
      "cell_type": "code",
      "execution_count": null,
      "metadata": {
        "colab": {
          "base_uri": "https://localhost:8080/"
        },
        "id": "miHQVcp5RBga",
        "outputId": "77cd3890-c2b9-4486-b5ae-31bec54b11db"
      },
      "outputs": [
        {
          "output_type": "stream",
          "name": "stdout",
          "text": [
            "Mounted at /content/gdrive\n"
          ]
        }
      ],
      "source": [
        "from google.colab import drive\n",
        "\n",
        "# Mount Google Drive\n",
        "drive.mount('/content/gdrive')\n",
        "data_dir = \"/content/gdrive/MyDrive/Data Science Final Project\""
      ]
    },
    {
      "cell_type": "markdown",
      "metadata": {
        "id": "plSPZ6JZu7NJ"
      },
      "source": [
        "## Functions for scraping & saving web data\n",
        "\n",
        "This is a function for scraping author names to obtain them in the format we want (LastnameFirstname)."
      ]
    },
    {
      "cell_type": "code",
      "execution_count": null,
      "metadata": {
        "id": "Rtvr8IXLy6Fg"
      },
      "outputs": [],
      "source": [
        "#make a function for turning author names into the appropriate format (LastnameFirstname)\n",
        "import re\n",
        "def process_name(name):\n",
        "  '''\n",
        "  give a firstname lastname string and return the url format of the string\n",
        "  '''\n",
        "  author_name = name.split()\n",
        "  for i in range(len(author_name)):\n",
        "    author_name[i] = re.sub(r'[^\\w\\s]', '', author_name[i])\n",
        "  return author_name[-1]+\"\".join(author_name[:-1])"
      ]
    },
    {
      "cell_type": "code",
      "execution_count": null,
      "metadata": {
        "id": "820BfJTj0hCp"
      },
      "outputs": [],
      "source": [
        "#function to add the correct \"/author/\" prefix to loop through the author page URLs on LibraryThing\n",
        "def add_prefix(authors):\n",
        "    return [\"/author/\" + author.lower() for author in authors]"
      ]
    },
    {
      "cell_type": "code",
      "execution_count": null,
      "metadata": {
        "id": "MQEeCMnb28I-"
      },
      "outputs": [],
      "source": [
        "# define load and save functions -- to store scraped data into a local csv/txt file\n",
        "def save(list_to_save: list, key: str):\n",
        "  with open(key, 'wb') as fp:\n",
        "    pickle.dump(list_to_save, fp)\n",
        "\n",
        "def load(key: str):\n",
        "  with open (key, 'rb') as fp:\n",
        "    itemlist = pickle.load(fp)\n",
        "    return itemlist"
      ]
    },
    {
      "cell_type": "markdown",
      "metadata": {
        "id": "Geo1E8GHvE_H"
      },
      "source": [
        "## Collecting author names to scrape book metadata"
      ]
    },
    {
      "cell_type": "markdown",
      "metadata": {
        "id": "PiBQxEilxmJI"
      },
      "source": [
        "#### Step 1: Scrape author names from various sources (LibraryThing, The Guardian, Wikipedia)\n",
        "\n",
        "LibraryThing already provides the author names in the correct format for URL processing, so we do not need to call the process_name function."
      ]
    },
    {
      "cell_type": "code",
      "execution_count": null,
      "metadata": {
        "colab": {
          "base_uri": "https://localhost:8080/"
        },
        "id": "GUUax4dQxTad",
        "outputId": "cca1d4a6-e1b1-48bf-c024-12c124648dc4"
      },
      "outputs": [
        {
          "name": "stdout",
          "output_type": "stream",
          "text": [
            "1000 authors from LibraryThing's Author Gallery\n"
          ]
        }
      ],
      "source": [
        "#scrape 1000 authors from Librarything\n",
        "url = 'https://www.librarything.com/zeitgeist/authorgallery'\n",
        "response = requests.get(url)\n",
        "\n",
        "soup = BeautifulSoup(response.content, 'html.parser')\n",
        "\n",
        "authors_LT = []\n",
        "divs = soup.find_all('div', {'class': ['picture', 'lt2_columnar_item']})\n",
        "for div in divs:\n",
        "    for a_tag in div.find_all('a'):\n",
        "        if \"/author/\" in a_tag.get('href') and \"http\" not in a_tag.get('href'):\n",
        "          authors_LT.append(a_tag.get('href'))\n",
        "\n",
        "print(f\"{len(authors_LT)} authors from LibraryThing's Author Gallery\")"
      ]
    },
    {
      "cell_type": "code",
      "execution_count": null,
      "metadata": {
        "colab": {
          "base_uri": "https://localhost:8080/"
        },
        "id": "LOnpab6qy9P8",
        "outputId": "1a7b01a6-4c96-4f12-c02a-b3dc45308caf"
      },
      "outputs": [
        {
          "data": {
            "text/plain": [
              "['/author/rowlingjk',\n",
              " '/author/kingstephen-1',\n",
              " '/author/pratchettterry',\n",
              " '/author/lewiscs',\n",
              " '/author/tolkienjrr']"
            ]
          },
          "execution_count": 26,
          "metadata": {},
          "output_type": "execute_result"
        }
      ],
      "source": [
        "#print examples of the LibraryThing author scrape\n",
        "authors_LT[:5]"
      ]
    },
    {
      "cell_type": "code",
      "execution_count": null,
      "metadata": {
        "colab": {
          "base_uri": "https://localhost:8080/"
        },
        "id": "_DT1joG5xvjV",
        "outputId": "5c0da03d-784d-4954-cb29-c2fb0a3d8397"
      },
      "outputs": [
        {
          "name": "stdout",
          "output_type": "stream",
          "text": [
            "57 authors from Wikipedia's Bestseller List\n"
          ]
        }
      ],
      "source": [
        "#scrape author names from Wikipedia's bestseller author list, got 57 additional authors\n",
        "response = requests.get(\n",
        "    \"https://en.wikipedia.org/wiki/List_of_best-selling_fiction_authors\")\n",
        "soup = BeautifulSoup(response.text, \"html.parser\")\n",
        "table_0=soup.find(\"table\")\n",
        "table_0_body=table_0.find(\"tbody\")\n",
        "authors_wiki = []\n",
        "for row in table_0_body.find_all(\"tr\")[1:]:\n",
        "  value=row.find_all(\"td\")\n",
        "  name=value[0].find(\"a\").text\n",
        "  #what about names with three words\n",
        "  if not f\"/author/{process_name(name).lower()}\" in authors_LT:\n",
        "    authors_wiki.append(process_name(name))\n",
        "print(f\"{len(authors_wiki)} authors from Wikipedia's Bestseller List\")"
      ]
    },
    {
      "cell_type": "code",
      "execution_count": null,
      "metadata": {
        "colab": {
          "base_uri": "https://localhost:8080/"
        },
        "id": "hFjqiksjzNFa",
        "outputId": "259508d2-9b73-4929-9d98-f1d65aa77e3b"
      },
      "outputs": [
        {
          "data": {
            "text/plain": [
              "['CartlandBarbara',\n",
              " 'RobbinsHarold',\n",
              " 'OdaEiichiro',\n",
              " 'PattenGilbert',\n",
              " 'ToriyamaAkira']"
            ]
          },
          "execution_count": 19,
          "metadata": {},
          "output_type": "execute_result"
        }
      ],
      "source": [
        "#print example of the Wiki author scrape\n",
        "authors_wiki[:5]"
      ]
    },
    {
      "cell_type": "code",
      "execution_count": null,
      "metadata": {
        "colab": {
          "base_uri": "https://localhost:8080/"
        },
        "id": "91JJqkH3yWX0",
        "outputId": "24ca78b0-2b42-4d2c-b1a4-11e82477dd88"
      },
      "outputs": [
        {
          "name": "stdout",
          "output_type": "stream",
          "text": [
            "556 authors from The Guardian's Bestseller List\n"
          ]
        }
      ],
      "source": [
        "# scrape author names from the Guardian's author page, got 556 additional author names\n",
        "response = requests.get(\n",
        "    \"https://www.theguardian.com/books/list/authorsaz\")\n",
        "soup = BeautifulSoup(response.text, \"html.parser\")\n",
        "initials=soup.find_all(\"div\", attrs={\n",
        "            \"class\":\"countries dir-first\"})\n",
        "\n",
        "authors_guardian = []\n",
        "\n",
        "for initial in initials:\n",
        "  names = initial.find_all('a')\n",
        "  for name in names:\n",
        "    processed = process_name(name.text)\n",
        "    if not processed in authors_wiki:\n",
        "      authors_guardian.append(processed)\n",
        "print(f\"{len(authors_guardian)} authors from The Guardian's Bestseller List\")"
      ]
    },
    {
      "cell_type": "code",
      "execution_count": null,
      "metadata": {
        "colab": {
          "base_uri": "https://localhost:8080/"
        },
        "id": "EZ3ZU8lM04Xx",
        "outputId": "46f5c0a0-4804-42d7-8066-dcbdfde25bec"
      },
      "outputs": [
        {
          "name": "stdout",
          "output_type": "stream",
          "text": [
            "1613 total authors\n",
            "['/author/jonesdianawynne', '/author/xinran', '/author/yeatswb', '/author/zizekslavoj', '/author/zolaemile']\n"
          ]
        }
      ],
      "source": [
        "authors_final = authors_LT + add_prefix(authors_wiki) + add_prefix(authors_guardian)\n",
        "print(f\"{len(authors_final)} total authors\")\n",
        "# print example of the author data\n",
        "print(authors_final[-5:])"
      ]
    },
    {
      "cell_type": "code",
      "execution_count": null,
      "metadata": {
        "id": "IZP023Hh2UD6"
      },
      "outputs": [],
      "source": [
        "#use author names to get author urls to prepare for scraping later\n",
        "author_urls = []\n",
        "for author in authors_final:\n",
        "  author = f\"https://www.librarything.com{author}\"\n",
        "  author_urls.append(author)\n",
        "author_urls\n",
        "# We are saving the names of 1613 authors in total.\n",
        "save(author_urls, \"author_urls\")"
      ]
    },
    {
      "cell_type": "markdown",
      "metadata": {
        "id": "7fS3rBEb3oVf"
      },
      "source": [
        "#### Step 2: Using our list of authors, we scraped LibraryThing's author pages to access individual book pages and saved all our book pages under book_url. This yielded us 119,215 URLs in total.\n",
        "\n",
        "For a more manageable dataset, we scraped a maximum of 30 books per author. This yielded us 46,271 webpages to scrape from."
      ]
    },
    {
      "cell_type": "code",
      "execution_count": null,
      "metadata": {
        "colab": {
          "background_save": true
        },
        "id": "ZobsLGeY3n_B",
        "outputId": "b61782ad-9a03-4d30-e173-00bde83ca74c"
      },
      "outputs": [
        {
          "data": {
            "text/plain": [
              "46271"
            ]
          },
          "execution_count": 42,
          "metadata": {},
          "output_type": "execute_result"
        }
      ],
      "source": [
        "#collect list of book page urls through author pages\n",
        "book_urls = []\n",
        "\n",
        "for url in author_urls:\n",
        "  time.sleep(0.5)\n",
        "  response = requests.get(url)\n",
        "  soup = BeautifulSoup(response.text, 'html.parser')\n",
        "  div_tags = soup.find_all('div', {'class': 'li_donthave'})\n",
        "\n",
        "# Loop through the 'div' elements and extract the 'href' value (url of individual books) from the 'a' element within it\n",
        "  if len(div_tags) > 30:\n",
        "    div_tags = div_tags[:30]\n",
        "  for div_tag in div_tags[:30]:\n",
        "    book_id = div_tag.find('a')\n",
        "    if book_id:\n",
        "      book_urls.append(f\"https://www.librarything.com/{book_id['href']}\")      \n",
        "\n",
        "save(book_urls, \"book_urls\")\n",
        "print(f\"{len(book_urls)} books to scrape data from\")"
      ]
    },
    {
      "cell_type": "markdown",
      "source": [
        "##Scrape book metadata\n",
        "\n",
        "Step 3: Now that we have all the book page urls, we can start scraping the book metadata to build a dataframe with information about indiviudal books. We scraped the data from three sources: Wikipedia's top 100 authors page, The Guardian's authors page, and LibraryThing's authors page. \n",
        "\n",
        "Since we had 46, 271 URLs to scrape, we did the scraping on Visual Studio Code so that the runtime would not exceed Colab's maximum. We divided this task between us and concatenated our dataframes into a final df_books.\n",
        "\n",
        "We will scrape data on the following features:\n",
        "1.   title\n",
        "2.   author\n",
        "3. book index\n",
        "4. average rating of the book\n",
        "5. genres associated with the book\n",
        "6. short description of the book\n",
        "7. book's publication year\n",
        "8. the first sentence of the book\n",
        "9. the number of reviews the book has\n",
        "10. a url to the book's cover\n"
      ],
      "metadata": {
        "id": "LMwOdmeTxGxt"
      }
    },
    {
      "cell_type": "code",
      "execution_count": null,
      "metadata": {
        "id": "TF7T9XBa3O2z"
      },
      "outputs": [],
      "source": [
        "#ran this code on VS Code\n",
        "#scrape individual book pages for details on book title, author, rating, blurb, book cover image url\n",
        "#drop books with less than 10 reviews/no rating\n",
        "\n",
        "import numpy as np\n",
        "import pandas as pd\n",
        "\n",
        "add_book_info = pd.DataFrame(columns=[\"title\", 'author', 'book_index', 'book_url', 'avg_rating', 'genre', 'description', 'publication_year','first_sentence',\"number_of_reviews\",'image_url', 'srcset'])\n",
        "\n",
        "for i, url in tqdm(list(enumerate(add_book_urls))):\n",
        "  if i % 100 == 0:\n",
        "   save(add_book_info, 'add_book_info')\n",
        "  response = requests.get(url)\n",
        "  html_content = response.content\n",
        "\n",
        "  # Parse the HTML content using BeautifulSoup\n",
        "  try:\n",
        "    soup = BeautifulSoup(html_content, 'html.parser')\n",
        "  except:\n",
        "    continue\n",
        "\n",
        "  # Find the 'h1' tag element\n",
        "  try:\n",
        "    h1_tag = soup.find('div', {'class': 'headsummary'}).find('h1')\n",
        "    h2_tag = soup.find('div', {'class': 'headsummary'}).find('h2')\n",
        "  except AttributeError:\n",
        "    print(f\"Error in {i}: Could not find 'div' element with class 'headsummary' or 'h1' or 'h2' tags.\")\n",
        "    continue  # skip the current iteration and move on to the next one\n",
        "      \n",
        "\n",
        "  # Extract the text content of the 'h1' tag element and its child 'span' tag element\n",
        "  title = h1_tag.text.strip()  # Text content of 'h1' tag element\n",
        "  if title is None: continue\n",
        "  #year = soup.find('div', {'class': 'fwikiAtomicValue'}).find('a').text.strip()\n",
        "  author = h2_tag.find('a').text.strip()\n",
        "  if author is None: continue\n",
        "\n",
        "  #not all books have a rating, need to filter\n",
        "  if soup.find('span', {'class': 'dark_hint'}):\n",
        "    avg_rating = float(soup.find('span', {'class': 'dark_hint'}).text.strip('()'))\n",
        "  else:\n",
        "    continue\n",
        "  # number of reviews\n",
        "  reviewnum = soup.find(\"table\", attrs={\n",
        "              \"cellpadding\":\"0\",'cellspacing':'0','class':'wsltable'})\n",
        "  if reviewnum:\n",
        "    review = reviewnum.find('tr', attrs={'class':'wslcontent'})\n",
        "    if review:\n",
        "      reviewnumber = review.find_all(\"td\")[1]\n",
        "      if reviewnumber:\n",
        "        reviewnumber = reviewnumber.text.strip()\n",
        "        if reviewnumber == \"None\" or int(reviewnumber) <= 10: continue\n",
        "      else:\n",
        "        continue\n",
        "    else:\n",
        "      continue\n",
        "  else:\n",
        "    continue\n",
        "\n",
        "  # genre\n",
        "  genre = soup.find('div', {'id': 'genregreenbox'})\n",
        "  if genre: #need to change the empty lists into NaN or empty string\n",
        "    tags = [x.text.strip() for x in genre.find_all('div',{'class': 'genreline'})]\n",
        "    if len(tags) == 0:\n",
        "      continue\n",
        "  else:\n",
        "    continue\n",
        "\n",
        "  # description\n",
        "  book_description = soup.find('tr', {'class': 'wslcontent wslsummary'})\n",
        "  if book_description:\n",
        "    description = book_description.find('div').text.strip()\n",
        "    if description:\n",
        "      pass\n",
        "    else:\n",
        "      continue\n",
        "  else:\n",
        "    continue\n",
        "\n",
        "  #publication year\n",
        "  year = soup.find(\"div\", attrs={\n",
        "            \"class\":\"fwikiItem divoriginalpublicationdate\"})\n",
        "  if year:\n",
        "    publication = year.find('a')\n",
        "    if publication:\n",
        "      publication = publication.text\n",
        "    else:\n",
        "      continue\n",
        "  else: \n",
        "    continue\n",
        "\n",
        "  #first words\n",
        "  firstword = soup.find(\"div\", attrs={\n",
        "            \"class\":\"fwikiItem divfirstwords\"})\n",
        "  if firstword:\n",
        "    firstwords = firstword.find(\"div\", attrs={\n",
        "            \"class\":\"fwikiAtomicValue\", 'style':'min-height:12px;'})\n",
        "    if firstwords:\n",
        "      firstwords = firstwords.text\n",
        "    else:\n",
        "      continue\n",
        "  else:\n",
        "    continue\n",
        "\n",
        "  #image url \n",
        "  img = soup.find(\"div\", attrs={\n",
        "            \"id\":\"maincover\"})\n",
        "  if img:\n",
        "    img = img.find_all('img')[1]\n",
        "    if img:\n",
        "      # if srcset exists set srcset to srcset, otherwise set srcset to None\n",
        "      srcset = img.get('srcset') if img.get('srcset') else None\n",
        "      img = img.get('src')\n",
        "    else:\n",
        "      continue\n",
        "  else:\n",
        "    continue\n",
        "\n",
        "  if title:\n",
        "    add_book_info = pd.concat([add_book_info, pd.DataFrame.from_records([{ \n",
        "      \"title\":title,\n",
        "      \"author\":author, \n",
        "      \"book_index\": i,\n",
        "      \"book_url\": url,\n",
        "      \"avg_rating\":avg_rating, \n",
        "      \"genre\":tags,\n",
        "      \"description\":description,\n",
        "      \"publication_year\": publication,\n",
        "      \"first_sentence\": firstwords,\n",
        "      \"number_of_reviews\": reviewnumber,\n",
        "      'image_url': img,\n",
        "      'srcset': srcset\n",
        "     }]\n",
        "    )], ignore_index=True)\n",
        "  else:\n",
        "    continue\n",
        "save(add_book_info, 'add_book_info')"
      ]
    },
    {
      "cell_type": "markdown",
      "metadata": {
        "id": "JZfZl4FMuwe-"
      },
      "source": [
        "## Converting to DataFrame\n",
        "\n",
        "Because we split the URLs across multiple runtimes, we now need to concatenate all of our book_info files to compile a single large dataframe with all of our books and book metadata. Finally, we saved this as a csv."
      ]
    },
    {
      "cell_type": "code",
      "source": [
        "import os\n",
        "folder_path = '/content/drive/MyDrive/Data Science Final Project/book_info'\n",
        "\n",
        "# Create an empty list to store the data frames\n",
        "df_list = []\n",
        "\n",
        "# Loop through each file in the folder\n",
        "for file_name in os.listdir(folder_path):\n",
        "  file_path = os.path.join(folder_path, file_name)\n",
        "  df = load(file_path)\n",
        "  df_list.append(df)\n",
        "\n",
        "# Concatenate all the data frames \n",
        "df_books = pd.concat(df_list, axis=0).reset_index(drop=True)"
      ],
      "metadata": {
        "id": "lmmEKYFJxQ0a"
      },
      "execution_count": null,
      "outputs": []
    },
    {
      "cell_type": "code",
      "source": [
        "print(f\"Our raw dataset contains: {len(df_books)} books\")"
      ],
      "metadata": {
        "colab": {
          "base_uri": "https://localhost:8080/"
        },
        "id": "QeH-TULZynZ4",
        "outputId": "4ae06e41-3a3d-44fc-90bd-7794d24d4d4f"
      },
      "execution_count": null,
      "outputs": [
        {
          "output_type": "stream",
          "name": "stdout",
          "text": [
            "Our raw dataset contains: 25108 books\n"
          ]
        }
      ]
    },
    {
      "cell_type": "markdown",
      "metadata": {
        "id": "Jx-zkajAup2I"
      },
      "source": [
        "## Data Cleaning & Converting to .csv\n",
        "\n",
        "Cleaning elements in the book dataframe to prepare it for analysis and ML. To do this, we needed to standardize all of our columns. For example, some books had a full publication date, whereas others only had their years. Thus, we standardized to years only. Additionally, as we'l be analyizing trends in book titles, we needed to remove the publication years from book titles.\n"
      ]
    },
    {
      "cell_type": "code",
      "source": [
        "#load pre-saved csv of book data\n",
        "\n",
        "df_books = pd.read_csv(\"/content/gdrive/MyDrive/Data Science Final Project/books.csv\")"
      ],
      "metadata": {
        "id": "PrqiOmVVajXp"
      },
      "execution_count": null,
      "outputs": []
    },
    {
      "cell_type": "code",
      "source": [
        "#remove year from book titles (e.g \"And Then There Were None (1939)\")\n",
        "df_books['title'] = df_books['title'].str.replace(r'\\(\\d{4}\\)', '')\n",
        "\n",
        "#change publication date to just year, not date, convert back to int\n",
        "df_books['publication_year'] = df_books['publication_year'].astype(str)\n",
        "df_books['publication_year'] = df_books['publication_year'].str[:4]\n",
        "\n",
        "df_books"
      ],
      "metadata": {
        "id": "LRNs_63ThE2G",
        "colab": {
          "base_uri": "https://localhost:8080/",
          "height": 1000
        },
        "outputId": "f3c5e98e-f683-4ceb-a4a0-4fad6fb59097"
      },
      "execution_count": null,
      "outputs": [
        {
          "output_type": "stream",
          "name": "stderr",
          "text": [
            "<ipython-input-16-c9aa341488ba>:2: FutureWarning: The default value of regex will change from True to False in a future version.\n",
            "  df_books['title'] = df_books['title'].str.replace(r'\\(\\d{4}\\)', '')\n"
          ]
        },
        {
          "output_type": "execute_result",
          "data": {
            "text/plain": [
              "                                  title           author  book_index  \\\n",
              "0             And Then There Were None   Agatha Christie           0   \n",
              "1         Murder on the Orient Express   Agatha Christie           1   \n",
              "2          The Murder of Roger Ackroyd   Agatha Christie           2   \n",
              "3      The Mysterious Affair at Styles   Agatha Christie           3   \n",
              "4                     Death on the Nile  Agatha Christie           4   \n",
              "...                                 ...              ...         ...   \n",
              "24966                 Cadillac Jukebox   James Lee Burke       18095   \n",
              "24967                   Sunset Limited   James Lee Burke       18096   \n",
              "24968                  Crusader's Cross  James Lee Burke       18097   \n",
              "24969                     Burning Angel  James Lee Burke       18098   \n",
              "24970                         Swan Peak  James Lee Burke       18099   \n",
              "\n",
              "                                         book_url  avg_rating  \\\n",
              "0      https://www.librarything.com//work/7962202        4.14   \n",
              "1         https://www.librarything.com//work/2742        4.07   \n",
              "2         https://www.librarything.com//work/3011        4.06   \n",
              "3      https://www.librarything.com//work/2921950        3.75   \n",
              "4        https://www.librarything.com//work/29995        3.93   \n",
              "...                                           ...         ...   \n",
              "24966    https://www.librarything.com//work/82967        3.80   \n",
              "24967    https://www.librarything.com//work/16445        3.75   \n",
              "24968    https://www.librarything.com//work/32025        3.97   \n",
              "24969    https://www.librarything.com//work/70226        3.83   \n",
              "24970  https://www.librarything.com//work/4679776        3.95   \n",
              "\n",
              "                                       genre  \\\n",
              "0      ['Fiction and Literature', 'Mystery']   \n",
              "1      ['Fiction and Literature', 'Mystery']   \n",
              "2      ['Fiction and Literature', 'Mystery']   \n",
              "3      ['Fiction and Literature', 'Mystery']   \n",
              "4      ['Fiction and Literature', 'Mystery']   \n",
              "...                                      ...   \n",
              "24966  ['Fiction and Literature', 'Mystery']   \n",
              "24967  ['Fiction and Literature', 'Mystery']   \n",
              "24968  ['Fiction and Literature', 'Mystery']   \n",
              "24969  ['Fiction and Literature', 'Mystery']   \n",
              "24970  ['Fiction and Literature', 'Mystery']   \n",
              "\n",
              "                                             description publication_year  \\\n",
              "0      Ten houseguests, trapped on an isolated island...             1939   \n",
              "1      Agatha Christie's most famous murder mystery, ...             1934   \n",
              "2      Agatha Christie's most daring crime mystery - ...             1926   \n",
              "3      Set in the summer of 1917, the story follows t...             1920   \n",
              "4      Linnet Doyle is young, beautiful, and rich. Sh...             1937   \n",
              "...                                                  ...              ...   \n",
              "24966  A Louisiana farmer is jailed for the murder, 3...             1996   \n",
              "24967  Detective Dave Robicheaux returns to center st...             1998   \n",
              "24968  A conversation between Robicheaux and a dying ...             2005   \n",
              "24969  Dave Robicheaux, New Orleans detective, is puz...             1995   \n",
              "24970  The latest tale featuring the popular and flaw...             2008   \n",
              "\n",
              "                                          first_sentence number_of_reviews  \\\n",
              "0      In the corner of a first-class smoking carriag...               500   \n",
              "1      It was five o'clock on a winter's morning in S...               394   \n",
              "2      Mrs Ferrars died on the night of the 16th-17th...               291   \n",
              "3      The intense interest aroused in the public by ...               261   \n",
              "4                                     'Linnet Ridgeway!'               168   \n",
              "...                                                  ...               ...   \n",
              "24966  Aaron Crown should not have come back into our...                13   \n",
              "24967  I had seen a dawn like this one only twice in ...                10   \n",
              "24968  It was the end of an era, one that I suspect h...                28   \n",
              "24969  The Giacano family had locked up the action in...                16   \n",
              "24970  Clete Purcel had heard of people who sleep wit...                33   \n",
              "\n",
              "                                               image_url  \\\n",
              "0      https://images-na.ssl-images-amazon.com/images...   \n",
              "1      https://images-na.ssl-images-amazon.com/images...   \n",
              "2      https://images-na.ssl-images-amazon.com/images...   \n",
              "3      https://images-na.ssl-images-amazon.com/images...   \n",
              "4      https://images-na.ssl-images-amazon.com/images...   \n",
              "...                                                  ...   \n",
              "24966  https://images-na.ssl-images-amazon.com/images...   \n",
              "24967  https://images-na.ssl-images-amazon.com/images...   \n",
              "24968  https://images-na.ssl-images-amazon.com/images...   \n",
              "24969  https://images-na.ssl-images-amazon.com/images...   \n",
              "24970  https://images-na.ssl-images-amazon.com/images...   \n",
              "\n",
              "                                                  srcset  \\\n",
              "0      https://images-na.ssl-images-amazon.com/images...   \n",
              "1      https://images-na.ssl-images-amazon.com/images...   \n",
              "2      https://images-na.ssl-images-amazon.com/images...   \n",
              "3      https://images-na.ssl-images-amazon.com/images...   \n",
              "4      https://images-na.ssl-images-amazon.com/images...   \n",
              "...                                                  ...   \n",
              "24966  https://images-na.ssl-images-amazon.com/images...   \n",
              "24967  https://images-na.ssl-images-amazon.com/images...   \n",
              "24968  https://images-na.ssl-images-amazon.com/images...   \n",
              "24969  https://images-na.ssl-images-amazon.com/images...   \n",
              "24970  https://images-na.ssl-images-amazon.com/images...   \n",
              "\n",
              "                                genre_str  \n",
              "0      'Fiction and Literature', 'Mystery  \n",
              "1      'Fiction and Literature', 'Mystery  \n",
              "2      'Fiction and Literature', 'Mystery  \n",
              "3      'Fiction and Literature', 'Mystery  \n",
              "4      'Fiction and Literature', 'Mystery  \n",
              "...                                   ...  \n",
              "24966  'Fiction and Literature', 'Mystery  \n",
              "24967  'Fiction and Literature', 'Mystery  \n",
              "24968  'Fiction and Literature', 'Mystery  \n",
              "24969  'Fiction and Literature', 'Mystery  \n",
              "24970  'Fiction and Literature', 'Mystery  \n",
              "\n",
              "[24971 rows x 13 columns]"
            ],
            "text/html": [
              "\n",
              "  <div id=\"df-44380de6-f266-49b3-8c79-d1fea0e8d320\">\n",
              "    <div class=\"colab-df-container\">\n",
              "      <div>\n",
              "<style scoped>\n",
              "    .dataframe tbody tr th:only-of-type {\n",
              "        vertical-align: middle;\n",
              "    }\n",
              "\n",
              "    .dataframe tbody tr th {\n",
              "        vertical-align: top;\n",
              "    }\n",
              "\n",
              "    .dataframe thead th {\n",
              "        text-align: right;\n",
              "    }\n",
              "</style>\n",
              "<table border=\"1\" class=\"dataframe\">\n",
              "  <thead>\n",
              "    <tr style=\"text-align: right;\">\n",
              "      <th></th>\n",
              "      <th>title</th>\n",
              "      <th>author</th>\n",
              "      <th>book_index</th>\n",
              "      <th>book_url</th>\n",
              "      <th>avg_rating</th>\n",
              "      <th>genre</th>\n",
              "      <th>description</th>\n",
              "      <th>publication_year</th>\n",
              "      <th>first_sentence</th>\n",
              "      <th>number_of_reviews</th>\n",
              "      <th>image_url</th>\n",
              "      <th>srcset</th>\n",
              "      <th>genre_str</th>\n",
              "    </tr>\n",
              "  </thead>\n",
              "  <tbody>\n",
              "    <tr>\n",
              "      <th>0</th>\n",
              "      <td>And Then There Were None</td>\n",
              "      <td>Agatha Christie</td>\n",
              "      <td>0</td>\n",
              "      <td>https://www.librarything.com//work/7962202</td>\n",
              "      <td>4.14</td>\n",
              "      <td>['Fiction and Literature', 'Mystery']</td>\n",
              "      <td>Ten houseguests, trapped on an isolated island...</td>\n",
              "      <td>1939</td>\n",
              "      <td>In the corner of a first-class smoking carriag...</td>\n",
              "      <td>500</td>\n",
              "      <td>https://images-na.ssl-images-amazon.com/images...</td>\n",
              "      <td>https://images-na.ssl-images-amazon.com/images...</td>\n",
              "      <td>'Fiction and Literature', 'Mystery</td>\n",
              "    </tr>\n",
              "    <tr>\n",
              "      <th>1</th>\n",
              "      <td>Murder on the Orient Express</td>\n",
              "      <td>Agatha Christie</td>\n",
              "      <td>1</td>\n",
              "      <td>https://www.librarything.com//work/2742</td>\n",
              "      <td>4.07</td>\n",
              "      <td>['Fiction and Literature', 'Mystery']</td>\n",
              "      <td>Agatha Christie's most famous murder mystery, ...</td>\n",
              "      <td>1934</td>\n",
              "      <td>It was five o'clock on a winter's morning in S...</td>\n",
              "      <td>394</td>\n",
              "      <td>https://images-na.ssl-images-amazon.com/images...</td>\n",
              "      <td>https://images-na.ssl-images-amazon.com/images...</td>\n",
              "      <td>'Fiction and Literature', 'Mystery</td>\n",
              "    </tr>\n",
              "    <tr>\n",
              "      <th>2</th>\n",
              "      <td>The Murder of Roger Ackroyd</td>\n",
              "      <td>Agatha Christie</td>\n",
              "      <td>2</td>\n",
              "      <td>https://www.librarything.com//work/3011</td>\n",
              "      <td>4.06</td>\n",
              "      <td>['Fiction and Literature', 'Mystery']</td>\n",
              "      <td>Agatha Christie's most daring crime mystery - ...</td>\n",
              "      <td>1926</td>\n",
              "      <td>Mrs Ferrars died on the night of the 16th-17th...</td>\n",
              "      <td>291</td>\n",
              "      <td>https://images-na.ssl-images-amazon.com/images...</td>\n",
              "      <td>https://images-na.ssl-images-amazon.com/images...</td>\n",
              "      <td>'Fiction and Literature', 'Mystery</td>\n",
              "    </tr>\n",
              "    <tr>\n",
              "      <th>3</th>\n",
              "      <td>The Mysterious Affair at Styles</td>\n",
              "      <td>Agatha Christie</td>\n",
              "      <td>3</td>\n",
              "      <td>https://www.librarything.com//work/2921950</td>\n",
              "      <td>3.75</td>\n",
              "      <td>['Fiction and Literature', 'Mystery']</td>\n",
              "      <td>Set in the summer of 1917, the story follows t...</td>\n",
              "      <td>1920</td>\n",
              "      <td>The intense interest aroused in the public by ...</td>\n",
              "      <td>261</td>\n",
              "      <td>https://images-na.ssl-images-amazon.com/images...</td>\n",
              "      <td>https://images-na.ssl-images-amazon.com/images...</td>\n",
              "      <td>'Fiction and Literature', 'Mystery</td>\n",
              "    </tr>\n",
              "    <tr>\n",
              "      <th>4</th>\n",
              "      <td>Death on the Nile</td>\n",
              "      <td>Agatha Christie</td>\n",
              "      <td>4</td>\n",
              "      <td>https://www.librarything.com//work/29995</td>\n",
              "      <td>3.93</td>\n",
              "      <td>['Fiction and Literature', 'Mystery']</td>\n",
              "      <td>Linnet Doyle is young, beautiful, and rich. Sh...</td>\n",
              "      <td>1937</td>\n",
              "      <td>'Linnet Ridgeway!'</td>\n",
              "      <td>168</td>\n",
              "      <td>https://images-na.ssl-images-amazon.com/images...</td>\n",
              "      <td>https://images-na.ssl-images-amazon.com/images...</td>\n",
              "      <td>'Fiction and Literature', 'Mystery</td>\n",
              "    </tr>\n",
              "    <tr>\n",
              "      <th>...</th>\n",
              "      <td>...</td>\n",
              "      <td>...</td>\n",
              "      <td>...</td>\n",
              "      <td>...</td>\n",
              "      <td>...</td>\n",
              "      <td>...</td>\n",
              "      <td>...</td>\n",
              "      <td>...</td>\n",
              "      <td>...</td>\n",
              "      <td>...</td>\n",
              "      <td>...</td>\n",
              "      <td>...</td>\n",
              "      <td>...</td>\n",
              "    </tr>\n",
              "    <tr>\n",
              "      <th>24966</th>\n",
              "      <td>Cadillac Jukebox</td>\n",
              "      <td>James Lee Burke</td>\n",
              "      <td>18095</td>\n",
              "      <td>https://www.librarything.com//work/82967</td>\n",
              "      <td>3.80</td>\n",
              "      <td>['Fiction and Literature', 'Mystery']</td>\n",
              "      <td>A Louisiana farmer is jailed for the murder, 3...</td>\n",
              "      <td>1996</td>\n",
              "      <td>Aaron Crown should not have come back into our...</td>\n",
              "      <td>13</td>\n",
              "      <td>https://images-na.ssl-images-amazon.com/images...</td>\n",
              "      <td>https://images-na.ssl-images-amazon.com/images...</td>\n",
              "      <td>'Fiction and Literature', 'Mystery</td>\n",
              "    </tr>\n",
              "    <tr>\n",
              "      <th>24967</th>\n",
              "      <td>Sunset Limited</td>\n",
              "      <td>James Lee Burke</td>\n",
              "      <td>18096</td>\n",
              "      <td>https://www.librarything.com//work/16445</td>\n",
              "      <td>3.75</td>\n",
              "      <td>['Fiction and Literature', 'Mystery']</td>\n",
              "      <td>Detective Dave Robicheaux returns to center st...</td>\n",
              "      <td>1998</td>\n",
              "      <td>I had seen a dawn like this one only twice in ...</td>\n",
              "      <td>10</td>\n",
              "      <td>https://images-na.ssl-images-amazon.com/images...</td>\n",
              "      <td>https://images-na.ssl-images-amazon.com/images...</td>\n",
              "      <td>'Fiction and Literature', 'Mystery</td>\n",
              "    </tr>\n",
              "    <tr>\n",
              "      <th>24968</th>\n",
              "      <td>Crusader's Cross</td>\n",
              "      <td>James Lee Burke</td>\n",
              "      <td>18097</td>\n",
              "      <td>https://www.librarything.com//work/32025</td>\n",
              "      <td>3.97</td>\n",
              "      <td>['Fiction and Literature', 'Mystery']</td>\n",
              "      <td>A conversation between Robicheaux and a dying ...</td>\n",
              "      <td>2005</td>\n",
              "      <td>It was the end of an era, one that I suspect h...</td>\n",
              "      <td>28</td>\n",
              "      <td>https://images-na.ssl-images-amazon.com/images...</td>\n",
              "      <td>https://images-na.ssl-images-amazon.com/images...</td>\n",
              "      <td>'Fiction and Literature', 'Mystery</td>\n",
              "    </tr>\n",
              "    <tr>\n",
              "      <th>24969</th>\n",
              "      <td>Burning Angel</td>\n",
              "      <td>James Lee Burke</td>\n",
              "      <td>18098</td>\n",
              "      <td>https://www.librarything.com//work/70226</td>\n",
              "      <td>3.83</td>\n",
              "      <td>['Fiction and Literature', 'Mystery']</td>\n",
              "      <td>Dave Robicheaux, New Orleans detective, is puz...</td>\n",
              "      <td>1995</td>\n",
              "      <td>The Giacano family had locked up the action in...</td>\n",
              "      <td>16</td>\n",
              "      <td>https://images-na.ssl-images-amazon.com/images...</td>\n",
              "      <td>https://images-na.ssl-images-amazon.com/images...</td>\n",
              "      <td>'Fiction and Literature', 'Mystery</td>\n",
              "    </tr>\n",
              "    <tr>\n",
              "      <th>24970</th>\n",
              "      <td>Swan Peak</td>\n",
              "      <td>James Lee Burke</td>\n",
              "      <td>18099</td>\n",
              "      <td>https://www.librarything.com//work/4679776</td>\n",
              "      <td>3.95</td>\n",
              "      <td>['Fiction and Literature', 'Mystery']</td>\n",
              "      <td>The latest tale featuring the popular and flaw...</td>\n",
              "      <td>2008</td>\n",
              "      <td>Clete Purcel had heard of people who sleep wit...</td>\n",
              "      <td>33</td>\n",
              "      <td>https://images-na.ssl-images-amazon.com/images...</td>\n",
              "      <td>https://images-na.ssl-images-amazon.com/images...</td>\n",
              "      <td>'Fiction and Literature', 'Mystery</td>\n",
              "    </tr>\n",
              "  </tbody>\n",
              "</table>\n",
              "<p>24971 rows × 13 columns</p>\n",
              "</div>\n",
              "      <button class=\"colab-df-convert\" onclick=\"convertToInteractive('df-44380de6-f266-49b3-8c79-d1fea0e8d320')\"\n",
              "              title=\"Convert this dataframe to an interactive table.\"\n",
              "              style=\"display:none;\">\n",
              "        \n",
              "  <svg xmlns=\"http://www.w3.org/2000/svg\" height=\"24px\"viewBox=\"0 0 24 24\"\n",
              "       width=\"24px\">\n",
              "    <path d=\"M0 0h24v24H0V0z\" fill=\"none\"/>\n",
              "    <path d=\"M18.56 5.44l.94 2.06.94-2.06 2.06-.94-2.06-.94-.94-2.06-.94 2.06-2.06.94zm-11 1L8.5 8.5l.94-2.06 2.06-.94-2.06-.94L8.5 2.5l-.94 2.06-2.06.94zm10 10l.94 2.06.94-2.06 2.06-.94-2.06-.94-.94-2.06-.94 2.06-2.06.94z\"/><path d=\"M17.41 7.96l-1.37-1.37c-.4-.4-.92-.59-1.43-.59-.52 0-1.04.2-1.43.59L10.3 9.45l-7.72 7.72c-.78.78-.78 2.05 0 2.83L4 21.41c.39.39.9.59 1.41.59.51 0 1.02-.2 1.41-.59l7.78-7.78 2.81-2.81c.8-.78.8-2.07 0-2.86zM5.41 20L4 18.59l7.72-7.72 1.47 1.35L5.41 20z\"/>\n",
              "  </svg>\n",
              "      </button>\n",
              "      \n",
              "  <style>\n",
              "    .colab-df-container {\n",
              "      display:flex;\n",
              "      flex-wrap:wrap;\n",
              "      gap: 12px;\n",
              "    }\n",
              "\n",
              "    .colab-df-convert {\n",
              "      background-color: #E8F0FE;\n",
              "      border: none;\n",
              "      border-radius: 50%;\n",
              "      cursor: pointer;\n",
              "      display: none;\n",
              "      fill: #1967D2;\n",
              "      height: 32px;\n",
              "      padding: 0 0 0 0;\n",
              "      width: 32px;\n",
              "    }\n",
              "\n",
              "    .colab-df-convert:hover {\n",
              "      background-color: #E2EBFA;\n",
              "      box-shadow: 0px 1px 2px rgba(60, 64, 67, 0.3), 0px 1px 3px 1px rgba(60, 64, 67, 0.15);\n",
              "      fill: #174EA6;\n",
              "    }\n",
              "\n",
              "    [theme=dark] .colab-df-convert {\n",
              "      background-color: #3B4455;\n",
              "      fill: #D2E3FC;\n",
              "    }\n",
              "\n",
              "    [theme=dark] .colab-df-convert:hover {\n",
              "      background-color: #434B5C;\n",
              "      box-shadow: 0px 1px 3px 1px rgba(0, 0, 0, 0.15);\n",
              "      filter: drop-shadow(0px 1px 2px rgba(0, 0, 0, 0.3));\n",
              "      fill: #FFFFFF;\n",
              "    }\n",
              "  </style>\n",
              "\n",
              "      <script>\n",
              "        const buttonEl =\n",
              "          document.querySelector('#df-44380de6-f266-49b3-8c79-d1fea0e8d320 button.colab-df-convert');\n",
              "        buttonEl.style.display =\n",
              "          google.colab.kernel.accessAllowed ? 'block' : 'none';\n",
              "\n",
              "        async function convertToInteractive(key) {\n",
              "          const element = document.querySelector('#df-44380de6-f266-49b3-8c79-d1fea0e8d320');\n",
              "          const dataTable =\n",
              "            await google.colab.kernel.invokeFunction('convertToInteractive',\n",
              "                                                     [key], {});\n",
              "          if (!dataTable) return;\n",
              "\n",
              "          const docLinkHtml = 'Like what you see? Visit the ' +\n",
              "            '<a target=\"_blank\" href=https://colab.research.google.com/notebooks/data_table.ipynb>data table notebook</a>'\n",
              "            + ' to learn more about interactive tables.';\n",
              "          element.innerHTML = '';\n",
              "          dataTable['output_type'] = 'display_data';\n",
              "          await google.colab.output.renderOutput(dataTable, element);\n",
              "          const docLink = document.createElement('div');\n",
              "          docLink.innerHTML = docLinkHtml;\n",
              "          element.appendChild(docLink);\n",
              "        }\n",
              "      </script>\n",
              "    </div>\n",
              "  </div>\n",
              "  "
            ]
          },
          "metadata": {},
          "execution_count": 16
        }
      ]
    },
    {
      "cell_type": "code",
      "source": [
        "print(f\"Our cleaned dataset contains {len(df_books)} books\")"
      ],
      "metadata": {
        "colab": {
          "base_uri": "https://localhost:8080/"
        },
        "id": "cLnF6qQ8zwub",
        "outputId": "6d2ae3b2-1ec6-4ad5-d299-760a6ac66dfc"
      },
      "execution_count": null,
      "outputs": [
        {
          "output_type": "stream",
          "name": "stdout",
          "text": [
            "Our cleaned dataset contains 24971 books\n"
          ]
        }
      ]
    },
    {
      "cell_type": "code",
      "source": [
        "df_books.to_csv('books.csv', index=False)"
      ],
      "metadata": {
        "id": "oFlQlGjXdGpp"
      },
      "execution_count": null,
      "outputs": []
    },
    {
      "cell_type": "markdown",
      "metadata": {
        "id": "LuKPYKqOkyBh"
      },
      "source": [
        "# Prepping data for machine learning\n",
        "\n",
        "We need to clean the data further so that all columns can be used as features for ML. This means re-formatting the genre column so that it is an easily accessible list, converting publication years to strings (categorical variable). We also filtered for books with >10 reviews, so not all scraped URLs made it to the dataframe -- so we need to adjust the book index so that it is equivalent to the book in the dataframe."
      ]
    },
    {
      "cell_type": "code",
      "execution_count": null,
      "metadata": {
        "id": "AM62xoIIk2z5"
      },
      "outputs": [],
      "source": [
        "df_books = pd.read_csv(\"/content/gdrive/MyDrive/Data Science Final Project/books.csv\")"
      ]
    },
    {
      "cell_type": "code",
      "source": [
        "df_clean = df_books.copy()\n",
        "df_clean['genre'] = df_clean['genre'].apply(lambda x: [genre.strip().strip(\"'\") for genre in x[2:-2].split(',')])\n",
        "df_clean['book_index'] = df_books.index\n",
        "df_clean = df_clean.drop(['genre_str', 'srcset'], axis=1)\n",
        "df_clean.loc[df_clean['publication_year'] == 2918, 'publication_year'] = 2018\n",
        "df_clean.loc[df_clean['publication_year'] == 2029, 'publication_year'] = 2020\n",
        "df_clean[\"publication_year\"] = df_clean[\"publication_year\"].astype(str)\n",
        "df_clean.loc[df_clean[\"number_of_reviews\"] == \"None\", \"number_of_reviews\"] = np.nan\n",
        "df_clean[\"number_of_reviews\"] = df_clean[\"number_of_reviews\"].fillna(0).astype(int)\n",
        "\n",
        "df_clean"
      ],
      "metadata": {
        "colab": {
          "base_uri": "https://localhost:8080/",
          "height": 1000
        },
        "id": "_sNOzdNE2dA4",
        "outputId": "db9c5237-7be1-42c3-9378-77eca192c8aa"
      },
      "execution_count": null,
      "outputs": [
        {
          "output_type": "execute_result",
          "data": {
            "text/plain": [
              "                                  title           author  book_index  \\\n",
              "0             And Then There Were None   Agatha Christie           0   \n",
              "1         Murder on the Orient Express   Agatha Christie           1   \n",
              "2          The Murder of Roger Ackroyd   Agatha Christie           2   \n",
              "3      The Mysterious Affair at Styles   Agatha Christie           3   \n",
              "4                     Death on the Nile  Agatha Christie           4   \n",
              "...                                 ...              ...         ...   \n",
              "24966                 Cadillac Jukebox   James Lee Burke       24966   \n",
              "24967                   Sunset Limited   James Lee Burke       24967   \n",
              "24968                  Crusader's Cross  James Lee Burke       24968   \n",
              "24969                     Burning Angel  James Lee Burke       24969   \n",
              "24970                         Swan Peak  James Lee Burke       24970   \n",
              "\n",
              "                                         book_url  avg_rating  \\\n",
              "0      https://www.librarything.com//work/7962202        4.14   \n",
              "1         https://www.librarything.com//work/2742        4.07   \n",
              "2         https://www.librarything.com//work/3011        4.06   \n",
              "3      https://www.librarything.com//work/2921950        3.75   \n",
              "4        https://www.librarything.com//work/29995        3.93   \n",
              "...                                           ...         ...   \n",
              "24966    https://www.librarything.com//work/82967        3.80   \n",
              "24967    https://www.librarything.com//work/16445        3.75   \n",
              "24968    https://www.librarything.com//work/32025        3.97   \n",
              "24969    https://www.librarything.com//work/70226        3.83   \n",
              "24970  https://www.librarything.com//work/4679776        3.95   \n",
              "\n",
              "                                   genre  \\\n",
              "0      [Fiction and Literature, Mystery]   \n",
              "1      [Fiction and Literature, Mystery]   \n",
              "2      [Fiction and Literature, Mystery]   \n",
              "3      [Fiction and Literature, Mystery]   \n",
              "4      [Fiction and Literature, Mystery]   \n",
              "...                                  ...   \n",
              "24966  [Fiction and Literature, Mystery]   \n",
              "24967  [Fiction and Literature, Mystery]   \n",
              "24968  [Fiction and Literature, Mystery]   \n",
              "24969  [Fiction and Literature, Mystery]   \n",
              "24970  [Fiction and Literature, Mystery]   \n",
              "\n",
              "                                             description publication_year  \\\n",
              "0      Ten houseguests, trapped on an isolated island...             1939   \n",
              "1      Agatha Christie's most famous murder mystery, ...             1934   \n",
              "2      Agatha Christie's most daring crime mystery - ...             1926   \n",
              "3      Set in the summer of 1917, the story follows t...             1920   \n",
              "4      Linnet Doyle is young, beautiful, and rich. Sh...             1937   \n",
              "...                                                  ...              ...   \n",
              "24966  A Louisiana farmer is jailed for the murder, 3...             1996   \n",
              "24967  Detective Dave Robicheaux returns to center st...             1998   \n",
              "24968  A conversation between Robicheaux and a dying ...             2005   \n",
              "24969  Dave Robicheaux, New Orleans detective, is puz...             1995   \n",
              "24970  The latest tale featuring the popular and flaw...             2008   \n",
              "\n",
              "                                          first_sentence  number_of_reviews  \\\n",
              "0      In the corner of a first-class smoking carriag...                500   \n",
              "1      It was five o'clock on a winter's morning in S...                394   \n",
              "2      Mrs Ferrars died on the night of the 16th-17th...                291   \n",
              "3      The intense interest aroused in the public by ...                261   \n",
              "4                                     'Linnet Ridgeway!'                168   \n",
              "...                                                  ...                ...   \n",
              "24966  Aaron Crown should not have come back into our...                 13   \n",
              "24967  I had seen a dawn like this one only twice in ...                 10   \n",
              "24968  It was the end of an era, one that I suspect h...                 28   \n",
              "24969  The Giacano family had locked up the action in...                 16   \n",
              "24970  Clete Purcel had heard of people who sleep wit...                 33   \n",
              "\n",
              "                                               image_url  \n",
              "0      https://images-na.ssl-images-amazon.com/images...  \n",
              "1      https://images-na.ssl-images-amazon.com/images...  \n",
              "2      https://images-na.ssl-images-amazon.com/images...  \n",
              "3      https://images-na.ssl-images-amazon.com/images...  \n",
              "4      https://images-na.ssl-images-amazon.com/images...  \n",
              "...                                                  ...  \n",
              "24966  https://images-na.ssl-images-amazon.com/images...  \n",
              "24967  https://images-na.ssl-images-amazon.com/images...  \n",
              "24968  https://images-na.ssl-images-amazon.com/images...  \n",
              "24969  https://images-na.ssl-images-amazon.com/images...  \n",
              "24970  https://images-na.ssl-images-amazon.com/images...  \n",
              "\n",
              "[24971 rows x 11 columns]"
            ],
            "text/html": [
              "\n",
              "  <div id=\"df-f7386501-d3bb-434c-afa4-3547d758e33c\">\n",
              "    <div class=\"colab-df-container\">\n",
              "      <div>\n",
              "<style scoped>\n",
              "    .dataframe tbody tr th:only-of-type {\n",
              "        vertical-align: middle;\n",
              "    }\n",
              "\n",
              "    .dataframe tbody tr th {\n",
              "        vertical-align: top;\n",
              "    }\n",
              "\n",
              "    .dataframe thead th {\n",
              "        text-align: right;\n",
              "    }\n",
              "</style>\n",
              "<table border=\"1\" class=\"dataframe\">\n",
              "  <thead>\n",
              "    <tr style=\"text-align: right;\">\n",
              "      <th></th>\n",
              "      <th>title</th>\n",
              "      <th>author</th>\n",
              "      <th>book_index</th>\n",
              "      <th>book_url</th>\n",
              "      <th>avg_rating</th>\n",
              "      <th>genre</th>\n",
              "      <th>description</th>\n",
              "      <th>publication_year</th>\n",
              "      <th>first_sentence</th>\n",
              "      <th>number_of_reviews</th>\n",
              "      <th>image_url</th>\n",
              "    </tr>\n",
              "  </thead>\n",
              "  <tbody>\n",
              "    <tr>\n",
              "      <th>0</th>\n",
              "      <td>And Then There Were None</td>\n",
              "      <td>Agatha Christie</td>\n",
              "      <td>0</td>\n",
              "      <td>https://www.librarything.com//work/7962202</td>\n",
              "      <td>4.14</td>\n",
              "      <td>[Fiction and Literature, Mystery]</td>\n",
              "      <td>Ten houseguests, trapped on an isolated island...</td>\n",
              "      <td>1939</td>\n",
              "      <td>In the corner of a first-class smoking carriag...</td>\n",
              "      <td>500</td>\n",
              "      <td>https://images-na.ssl-images-amazon.com/images...</td>\n",
              "    </tr>\n",
              "    <tr>\n",
              "      <th>1</th>\n",
              "      <td>Murder on the Orient Express</td>\n",
              "      <td>Agatha Christie</td>\n",
              "      <td>1</td>\n",
              "      <td>https://www.librarything.com//work/2742</td>\n",
              "      <td>4.07</td>\n",
              "      <td>[Fiction and Literature, Mystery]</td>\n",
              "      <td>Agatha Christie's most famous murder mystery, ...</td>\n",
              "      <td>1934</td>\n",
              "      <td>It was five o'clock on a winter's morning in S...</td>\n",
              "      <td>394</td>\n",
              "      <td>https://images-na.ssl-images-amazon.com/images...</td>\n",
              "    </tr>\n",
              "    <tr>\n",
              "      <th>2</th>\n",
              "      <td>The Murder of Roger Ackroyd</td>\n",
              "      <td>Agatha Christie</td>\n",
              "      <td>2</td>\n",
              "      <td>https://www.librarything.com//work/3011</td>\n",
              "      <td>4.06</td>\n",
              "      <td>[Fiction and Literature, Mystery]</td>\n",
              "      <td>Agatha Christie's most daring crime mystery - ...</td>\n",
              "      <td>1926</td>\n",
              "      <td>Mrs Ferrars died on the night of the 16th-17th...</td>\n",
              "      <td>291</td>\n",
              "      <td>https://images-na.ssl-images-amazon.com/images...</td>\n",
              "    </tr>\n",
              "    <tr>\n",
              "      <th>3</th>\n",
              "      <td>The Mysterious Affair at Styles</td>\n",
              "      <td>Agatha Christie</td>\n",
              "      <td>3</td>\n",
              "      <td>https://www.librarything.com//work/2921950</td>\n",
              "      <td>3.75</td>\n",
              "      <td>[Fiction and Literature, Mystery]</td>\n",
              "      <td>Set in the summer of 1917, the story follows t...</td>\n",
              "      <td>1920</td>\n",
              "      <td>The intense interest aroused in the public by ...</td>\n",
              "      <td>261</td>\n",
              "      <td>https://images-na.ssl-images-amazon.com/images...</td>\n",
              "    </tr>\n",
              "    <tr>\n",
              "      <th>4</th>\n",
              "      <td>Death on the Nile</td>\n",
              "      <td>Agatha Christie</td>\n",
              "      <td>4</td>\n",
              "      <td>https://www.librarything.com//work/29995</td>\n",
              "      <td>3.93</td>\n",
              "      <td>[Fiction and Literature, Mystery]</td>\n",
              "      <td>Linnet Doyle is young, beautiful, and rich. Sh...</td>\n",
              "      <td>1937</td>\n",
              "      <td>'Linnet Ridgeway!'</td>\n",
              "      <td>168</td>\n",
              "      <td>https://images-na.ssl-images-amazon.com/images...</td>\n",
              "    </tr>\n",
              "    <tr>\n",
              "      <th>...</th>\n",
              "      <td>...</td>\n",
              "      <td>...</td>\n",
              "      <td>...</td>\n",
              "      <td>...</td>\n",
              "      <td>...</td>\n",
              "      <td>...</td>\n",
              "      <td>...</td>\n",
              "      <td>...</td>\n",
              "      <td>...</td>\n",
              "      <td>...</td>\n",
              "      <td>...</td>\n",
              "    </tr>\n",
              "    <tr>\n",
              "      <th>24966</th>\n",
              "      <td>Cadillac Jukebox</td>\n",
              "      <td>James Lee Burke</td>\n",
              "      <td>24966</td>\n",
              "      <td>https://www.librarything.com//work/82967</td>\n",
              "      <td>3.80</td>\n",
              "      <td>[Fiction and Literature, Mystery]</td>\n",
              "      <td>A Louisiana farmer is jailed for the murder, 3...</td>\n",
              "      <td>1996</td>\n",
              "      <td>Aaron Crown should not have come back into our...</td>\n",
              "      <td>13</td>\n",
              "      <td>https://images-na.ssl-images-amazon.com/images...</td>\n",
              "    </tr>\n",
              "    <tr>\n",
              "      <th>24967</th>\n",
              "      <td>Sunset Limited</td>\n",
              "      <td>James Lee Burke</td>\n",
              "      <td>24967</td>\n",
              "      <td>https://www.librarything.com//work/16445</td>\n",
              "      <td>3.75</td>\n",
              "      <td>[Fiction and Literature, Mystery]</td>\n",
              "      <td>Detective Dave Robicheaux returns to center st...</td>\n",
              "      <td>1998</td>\n",
              "      <td>I had seen a dawn like this one only twice in ...</td>\n",
              "      <td>10</td>\n",
              "      <td>https://images-na.ssl-images-amazon.com/images...</td>\n",
              "    </tr>\n",
              "    <tr>\n",
              "      <th>24968</th>\n",
              "      <td>Crusader's Cross</td>\n",
              "      <td>James Lee Burke</td>\n",
              "      <td>24968</td>\n",
              "      <td>https://www.librarything.com//work/32025</td>\n",
              "      <td>3.97</td>\n",
              "      <td>[Fiction and Literature, Mystery]</td>\n",
              "      <td>A conversation between Robicheaux and a dying ...</td>\n",
              "      <td>2005</td>\n",
              "      <td>It was the end of an era, one that I suspect h...</td>\n",
              "      <td>28</td>\n",
              "      <td>https://images-na.ssl-images-amazon.com/images...</td>\n",
              "    </tr>\n",
              "    <tr>\n",
              "      <th>24969</th>\n",
              "      <td>Burning Angel</td>\n",
              "      <td>James Lee Burke</td>\n",
              "      <td>24969</td>\n",
              "      <td>https://www.librarything.com//work/70226</td>\n",
              "      <td>3.83</td>\n",
              "      <td>[Fiction and Literature, Mystery]</td>\n",
              "      <td>Dave Robicheaux, New Orleans detective, is puz...</td>\n",
              "      <td>1995</td>\n",
              "      <td>The Giacano family had locked up the action in...</td>\n",
              "      <td>16</td>\n",
              "      <td>https://images-na.ssl-images-amazon.com/images...</td>\n",
              "    </tr>\n",
              "    <tr>\n",
              "      <th>24970</th>\n",
              "      <td>Swan Peak</td>\n",
              "      <td>James Lee Burke</td>\n",
              "      <td>24970</td>\n",
              "      <td>https://www.librarything.com//work/4679776</td>\n",
              "      <td>3.95</td>\n",
              "      <td>[Fiction and Literature, Mystery]</td>\n",
              "      <td>The latest tale featuring the popular and flaw...</td>\n",
              "      <td>2008</td>\n",
              "      <td>Clete Purcel had heard of people who sleep wit...</td>\n",
              "      <td>33</td>\n",
              "      <td>https://images-na.ssl-images-amazon.com/images...</td>\n",
              "    </tr>\n",
              "  </tbody>\n",
              "</table>\n",
              "<p>24971 rows × 11 columns</p>\n",
              "</div>\n",
              "      <button class=\"colab-df-convert\" onclick=\"convertToInteractive('df-f7386501-d3bb-434c-afa4-3547d758e33c')\"\n",
              "              title=\"Convert this dataframe to an interactive table.\"\n",
              "              style=\"display:none;\">\n",
              "        \n",
              "  <svg xmlns=\"http://www.w3.org/2000/svg\" height=\"24px\"viewBox=\"0 0 24 24\"\n",
              "       width=\"24px\">\n",
              "    <path d=\"M0 0h24v24H0V0z\" fill=\"none\"/>\n",
              "    <path d=\"M18.56 5.44l.94 2.06.94-2.06 2.06-.94-2.06-.94-.94-2.06-.94 2.06-2.06.94zm-11 1L8.5 8.5l.94-2.06 2.06-.94-2.06-.94L8.5 2.5l-.94 2.06-2.06.94zm10 10l.94 2.06.94-2.06 2.06-.94-2.06-.94-.94-2.06-.94 2.06-2.06.94z\"/><path d=\"M17.41 7.96l-1.37-1.37c-.4-.4-.92-.59-1.43-.59-.52 0-1.04.2-1.43.59L10.3 9.45l-7.72 7.72c-.78.78-.78 2.05 0 2.83L4 21.41c.39.39.9.59 1.41.59.51 0 1.02-.2 1.41-.59l7.78-7.78 2.81-2.81c.8-.78.8-2.07 0-2.86zM5.41 20L4 18.59l7.72-7.72 1.47 1.35L5.41 20z\"/>\n",
              "  </svg>\n",
              "      </button>\n",
              "      \n",
              "  <style>\n",
              "    .colab-df-container {\n",
              "      display:flex;\n",
              "      flex-wrap:wrap;\n",
              "      gap: 12px;\n",
              "    }\n",
              "\n",
              "    .colab-df-convert {\n",
              "      background-color: #E8F0FE;\n",
              "      border: none;\n",
              "      border-radius: 50%;\n",
              "      cursor: pointer;\n",
              "      display: none;\n",
              "      fill: #1967D2;\n",
              "      height: 32px;\n",
              "      padding: 0 0 0 0;\n",
              "      width: 32px;\n",
              "    }\n",
              "\n",
              "    .colab-df-convert:hover {\n",
              "      background-color: #E2EBFA;\n",
              "      box-shadow: 0px 1px 2px rgba(60, 64, 67, 0.3), 0px 1px 3px 1px rgba(60, 64, 67, 0.15);\n",
              "      fill: #174EA6;\n",
              "    }\n",
              "\n",
              "    [theme=dark] .colab-df-convert {\n",
              "      background-color: #3B4455;\n",
              "      fill: #D2E3FC;\n",
              "    }\n",
              "\n",
              "    [theme=dark] .colab-df-convert:hover {\n",
              "      background-color: #434B5C;\n",
              "      box-shadow: 0px 1px 3px 1px rgba(0, 0, 0, 0.15);\n",
              "      filter: drop-shadow(0px 1px 2px rgba(0, 0, 0, 0.3));\n",
              "      fill: #FFFFFF;\n",
              "    }\n",
              "  </style>\n",
              "\n",
              "      <script>\n",
              "        const buttonEl =\n",
              "          document.querySelector('#df-f7386501-d3bb-434c-afa4-3547d758e33c button.colab-df-convert');\n",
              "        buttonEl.style.display =\n",
              "          google.colab.kernel.accessAllowed ? 'block' : 'none';\n",
              "\n",
              "        async function convertToInteractive(key) {\n",
              "          const element = document.querySelector('#df-f7386501-d3bb-434c-afa4-3547d758e33c');\n",
              "          const dataTable =\n",
              "            await google.colab.kernel.invokeFunction('convertToInteractive',\n",
              "                                                     [key], {});\n",
              "          if (!dataTable) return;\n",
              "\n",
              "          const docLinkHtml = 'Like what you see? Visit the ' +\n",
              "            '<a target=\"_blank\" href=https://colab.research.google.com/notebooks/data_table.ipynb>data table notebook</a>'\n",
              "            + ' to learn more about interactive tables.';\n",
              "          element.innerHTML = '';\n",
              "          dataTable['output_type'] = 'display_data';\n",
              "          await google.colab.output.renderOutput(dataTable, element);\n",
              "          const docLink = document.createElement('div');\n",
              "          docLink.innerHTML = docLinkHtml;\n",
              "          element.appendChild(docLink);\n",
              "        }\n",
              "      </script>\n",
              "    </div>\n",
              "  </div>\n",
              "  "
            ]
          },
          "metadata": {},
          "execution_count": 7
        }
      ]
    },
    {
      "cell_type": "markdown",
      "metadata": {
        "id": "m9gzxccfci0j"
      },
      "source": [
        "Save ML data to .csv"
      ]
    },
    {
      "cell_type": "code",
      "execution_count": null,
      "metadata": {
        "id": "9znbTgVulAnl"
      },
      "outputs": [],
      "source": [
        "df_clean.to_csv('/content/gdrive/MyDrive/Data Science Final Project/books_clean.csv', index=False)"
      ]
    }
  ],
  "metadata": {
    "colab": {
      "provenance": []
    },
    "kernelspec": {
      "display_name": "Python 3",
      "name": "python3"
    }
  },
  "nbformat": 4,
  "nbformat_minor": 0
}